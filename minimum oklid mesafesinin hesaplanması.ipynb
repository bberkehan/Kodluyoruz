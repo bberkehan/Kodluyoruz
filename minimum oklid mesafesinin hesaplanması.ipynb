{
 "cells": [
  {
   "cell_type": "code",
   "execution_count": 8,
   "id": "c84c042c-bf87-4513-8687-5c9bc17e27b3",
   "metadata": {},
   "outputs": [],
   "source": [
    "#noktalar\n",
    "points = [(2,3), (5,7), (1,1), (8,2)]"
   ]
  },
  {
   "cell_type": "code",
   "execution_count": 12,
   "id": "fcafbeaa-3087-430c-be85-62f31a4067c8",
   "metadata": {},
   "outputs": [],
   "source": [
    "import math"
   ]
  },
  {
   "cell_type": "code",
   "execution_count": 32,
   "id": "a93bc13c-ac4f-43fa-80cf-e500e09db002",
   "metadata": {},
   "outputs": [],
   "source": [
    "#öklid mesafesi için fonksiyonumuz\n",
    "def euclidean_distance(point1, point2):\n",
    "  x_differance = point2[0] - point1[0]\n",
    "  y_differance = point2[1] - point1[1]\n",
    "  distance = math.sqrt(x_difference** 2 + y_difference** 2) \n",
    "  return distance"
   ]
  },
  {
   "cell_type": "code",
   "execution_count": 48,
   "id": "5f3b2650-cfdd-41ee-87db-751adfde58ae",
   "metadata": {},
   "outputs": [],
   "source": [
    "#mesafelerin hesabı\n",
    "distances = []  \n",
    "for i in range(len(points)):\n",
    "    for j in range(i + 1, len(points)):\n",
    "        distance = euclideanDistance(points[i], points[j])  #İki nokta arasındaki mesafeyi hesapla\n",
    "        distances.append(distance)  "
   ]
  },
  {
   "cell_type": "code",
   "execution_count": 50,
   "id": "ed92fc69-2882-4200-bdc1-b6f24dbe70e1",
   "metadata": {},
   "outputs": [
    {
     "name": "stdout",
     "output_type": "stream",
     "text": [
      "Minimum mesafe: 2.23606797749979\n"
     ]
    }
   ],
   "source": [
    "#minimum mesafe\n",
    "min_distance = min(distances)\n",
    "print(\"Minimum mesafe:\", min_distance)"
   ]
  },
  {
   "cell_type": "code",
   "execution_count": null,
   "id": "159c3130-3339-4545-b568-6a50ead347fb",
   "metadata": {},
   "outputs": [],
   "source": []
  },
  {
   "cell_type": "code",
   "execution_count": null,
   "id": "161c1f09-e91f-4d8b-a7f5-d83d909802ac",
   "metadata": {},
   "outputs": [],
   "source": []
  }
 ],
 "metadata": {
  "kernelspec": {
   "display_name": "Python 3 (ipykernel)",
   "language": "python",
   "name": "python3"
  },
  "language_info": {
   "codemirror_mode": {
    "name": "ipython",
    "version": 3
   },
   "file_extension": ".py",
   "mimetype": "text/x-python",
   "name": "python",
   "nbconvert_exporter": "python",
   "pygments_lexer": "ipython3",
   "version": "3.12.4"
  }
 },
 "nbformat": 4,
 "nbformat_minor": 5
}
